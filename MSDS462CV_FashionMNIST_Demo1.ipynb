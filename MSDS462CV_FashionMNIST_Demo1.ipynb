{
  "nbformat": 4,
  "nbformat_minor": 0,
  "metadata": {
    "colab": {
      "name": "Untitled",
      "provenance": [],
      "authorship_tag": "ABX9TyP+NTY6EE/sWyaXlrytu0A0",
      "include_colab_link": true
    },
    "kernelspec": {
      "name": "python3",
      "display_name": "Python 3"
    }
  },
  "cells": [
    {
      "cell_type": "markdown",
      "metadata": {
        "id": "view-in-github",
        "colab_type": "text"
      },
      "source": [
        "<a href=\"https://colab.research.google.com/github/shankarfierce/MSDS_462_CV/blob/master/MSDS462CV_FashionMNIST_Demo1.ipynb\" target=\"_parent\"><img src=\"https://colab.research.google.com/assets/colab-badge.svg\" alt=\"Open In Colab\"/></a>"
      ]
    },
    {
      "cell_type": "markdown",
      "metadata": {
        "id": "gIdwU5phYM6L",
        "colab_type": "text"
      },
      "source": [
        "This is the first assignment demo video of computer vision course to classify Fashion MNIST data which is one of the new standards for training machine learning models for image classification. The dataset contains 60000 samples for training and 10000 for testing data sets and is represented in a 28x 28 pixels associated with a label of what the cloth is. The data set is provided by Zalando. \n",
        "\n",
        "\n",
        "**Reference:**\n",
        "\n",
        "https://cloudxlab.com/blog/fashion-mnist-using-deep-learning-with-tensorflow-keras/"
      ]
    },
    {
      "cell_type": "markdown",
      "metadata": {
        "id": "X7rWPENpiLK8",
        "colab_type": "text"
      },
      "source": [
        "Let us start with importing required libraries"
      ]
    },
    {
      "cell_type": "code",
      "metadata": {
        "id": "hpGveEsDaVwt",
        "colab_type": "code",
        "colab": {
          "base_uri": "https://localhost:8080/",
          "height": 63
        },
        "outputId": "1f4b47b6-b9a2-499f-a859-1e36d3d969c4"
      },
      "source": [
        "import tensorflow as tf\n",
        "from tensorflow import keras\n",
        "from tensorflow.keras import layers, models\n",
        "from tensorflow.keras.models import load_model\n",
        "import numpy as np\n",
        "import matplotlib.pyplot as plt"
      ],
      "execution_count": 8,
      "outputs": [
        {
          "output_type": "display_data",
          "data": {
            "text/html": [
              "<p style=\"color: red;\">\n",
              "The default version of TensorFlow in Colab will soon switch to TensorFlow 2.x.<br>\n",
              "We recommend you <a href=\"https://www.tensorflow.org/guide/migrate\" target=\"_blank\">upgrade</a> now \n",
              "or ensure your notebook will continue to use TensorFlow 1.x via the <code>%tensorflow_version 1.x</code> magic:\n",
              "<a href=\"https://colab.research.google.com/notebooks/tensorflow_version.ipynb\" target=\"_blank\">more info</a>.</p>\n"
            ],
            "text/plain": [
              "<IPython.core.display.HTML object>"
            ]
          },
          "metadata": {
            "tags": []
          }
        }
      ]
    },
    {
      "cell_type": "markdown",
      "metadata": {
        "id": "DNU9fBkkiTLL",
        "colab_type": "text"
      },
      "source": [
        "The Fashion MNIST dataset is downloaded using Tensorflow Keras API."
      ]
    },
    {
      "cell_type": "code",
      "metadata": {
        "id": "E3uNLT4Yb0n8",
        "colab_type": "code",
        "colab": {
          "base_uri": "https://localhost:8080/",
          "height": 153
        },
        "outputId": "0cf09972-574b-4944-caa1-d7e524ef320d"
      },
      "source": [
        "fashion_mnist = keras.datasets.fashion_mnist\n",
        "\n",
        "(train_images, train_labels), (test_images, test_labels) = fashion_mnist.load_data()"
      ],
      "execution_count": 12,
      "outputs": [
        {
          "output_type": "stream",
          "text": [
            "Downloading data from https://storage.googleapis.com/tensorflow/tf-keras-datasets/train-labels-idx1-ubyte.gz\n",
            "32768/29515 [=================================] - 0s 0us/step\n",
            "Downloading data from https://storage.googleapis.com/tensorflow/tf-keras-datasets/train-images-idx3-ubyte.gz\n",
            "26427392/26421880 [==============================] - 0s 0us/step\n",
            "Downloading data from https://storage.googleapis.com/tensorflow/tf-keras-datasets/t10k-labels-idx1-ubyte.gz\n",
            "8192/5148 [===============================================] - 0s 0us/step\n",
            "Downloading data from https://storage.googleapis.com/tensorflow/tf-keras-datasets/t10k-images-idx3-ubyte.gz\n",
            "4423680/4422102 [==============================] - 0s 0us/step\n"
          ],
          "name": "stdout"
        }
      ]
    },
    {
      "cell_type": "code",
      "metadata": {
        "id": "FAGXDjRFb6EG",
        "colab_type": "code",
        "colab": {}
      },
      "source": [
        "class_names = ['T-shirt/top', 'Trouser', 'Pullover', 'Dress', 'Coat', \n",
        "               'Sandal', 'Shirt', 'Sneaker', 'Bag', 'Ankle boot']"
      ],
      "execution_count": 0,
      "outputs": []
    },
    {
      "cell_type": "code",
      "metadata": {
        "id": "2F4jMlznb8kD",
        "colab_type": "code",
        "colab": {
          "base_uri": "https://localhost:8080/",
          "height": 34
        },
        "outputId": "1a6d8987-fe36-4039-db7f-ebc20467e620"
      },
      "source": [
        "train_images.shape"
      ],
      "execution_count": 14,
      "outputs": [
        {
          "output_type": "execute_result",
          "data": {
            "text/plain": [
              "(60000, 28, 28)"
            ]
          },
          "metadata": {
            "tags": []
          },
          "execution_count": 14
        }
      ]
    },
    {
      "cell_type": "markdown",
      "metadata": {
        "id": "uIWwh-gBjdO1",
        "colab_type": "text"
      },
      "source": [
        "We shall see that the images are represented in 28 x 28 pixel and each pixel represents a value between 0 and 255 that describes the pixel intensity."
      ]
    },
    {
      "cell_type": "code",
      "metadata": {
        "id": "ESeQdf_ib_Gh",
        "colab_type": "code",
        "colab": {
          "base_uri": "https://localhost:8080/",
          "height": 34
        },
        "outputId": "8ec00105-74f4-44bf-921d-1e01603557d8"
      },
      "source": [
        "train_labels.shape"
      ],
      "execution_count": 15,
      "outputs": [
        {
          "output_type": "execute_result",
          "data": {
            "text/plain": [
              "(60000,)"
            ]
          },
          "metadata": {
            "tags": []
          },
          "execution_count": 15
        }
      ]
    },
    {
      "cell_type": "code",
      "metadata": {
        "id": "gSfXClPwcBqJ",
        "colab_type": "code",
        "colab": {
          "base_uri": "https://localhost:8080/",
          "height": 34
        },
        "outputId": "0b4354be-7f7c-4d61-98ac-37e197e746e6"
      },
      "source": [
        "test_images.shape"
      ],
      "execution_count": 16,
      "outputs": [
        {
          "output_type": "execute_result",
          "data": {
            "text/plain": [
              "(10000, 28, 28)"
            ]
          },
          "metadata": {
            "tags": []
          },
          "execution_count": 16
        }
      ]
    },
    {
      "cell_type": "code",
      "metadata": {
        "id": "YSVwsSYhcCQR",
        "colab_type": "code",
        "colab": {
          "base_uri": "https://localhost:8080/",
          "height": 34
        },
        "outputId": "ca721ae9-42ee-4850-829b-6102c1482df8"
      },
      "source": [
        "test_labels.shape"
      ],
      "execution_count": 17,
      "outputs": [
        {
          "output_type": "execute_result",
          "data": {
            "text/plain": [
              "(10000,)"
            ]
          },
          "metadata": {
            "tags": []
          },
          "execution_count": 17
        }
      ]
    },
    {
      "cell_type": "code",
      "metadata": {
        "id": "f5V2tfnFZBJq",
        "colab_type": "code",
        "outputId": "7db57086-8407-41c0-e368-08dbffb6d437",
        "colab": {
          "base_uri": "https://localhost:8080/",
          "height": 364
        }
      },
      "source": [
        "plt.figure(figsize=(10,10))\n",
        "for i in range(15):\n",
        "    plt.subplot(5,5,i+1)\n",
        "    plt.xticks([])\n",
        "    plt.yticks([])\n",
        "    plt.imshow(train_images[i], cmap=plt.cm.binary)\n",
        "    plt.xlabel(class_names[train_labels[i]])\n",
        "plt.show()"
      ],
      "execution_count": 29,
      "outputs": [
        {
          "output_type": "display_data",
          "data": {
            "image/png": "[encoded data removed]",
            "text/plain": [
              "<Figure size 720x720 with 15 Axes>"
            ]
          },
          "metadata": {
            "tags": []
          }
        }
      ]
    },
    {
      "cell_type": "markdown",
      "metadata": {
        "id": "FFEB-GVhkLLx",
        "colab_type": "text"
      },
      "source": [
        "The labels for the class as specified in the Fashion MNIST dataset are: \n",
        "\n",
        "![image.png](data:image/png;base64,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)"
      ]
    },
    {
      "cell_type": "markdown",
      "metadata": {
        "id": "5_EXPd22lTB2",
        "colab_type": "text"
      },
      "source": [
        "Let us inspect one of the dataset images say at index 400 as stated below. We shall clearly see that the image is a pullover and the corresponding label value is 2-pullover."
      ]
    },
    {
      "cell_type": "code",
      "metadata": {
        "id": "dmxbEKUkcFlr",
        "colab_type": "code",
        "colab": {
          "base_uri": "https://localhost:8080/",
          "height": 282
        },
        "outputId": "f9a22a3f-eb72-45ab-d510-0254e25c3a5b"
      },
      "source": [
        "plt.figure()\n",
        "plt.imshow(np.squeeze(train_images[400]))"
      ],
      "execution_count": 27,
      "outputs": [
        {
          "output_type": "execute_result",
          "data": {
            "text/plain": [
              "<matplotlib.image.AxesImage at 0x7f4879f09128>"
            ]
          },
          "metadata": {
            "tags": []
          },
          "execution_count": 27
        },
        {
          "output_type": "display_data",
          "data": {
            "image/png": "[encoded data removed]",
            "text/plain": [
              "<Figure size 432x288 with 1 Axes>"
            ]
          },
          "metadata": {
            "tags": []
          }
        }
      ]
    },
    {
      "cell_type": "code",
      "metadata": {
        "id": "LCzfseIhcO1W",
        "colab_type": "code",
        "colab": {
          "base_uri": "https://localhost:8080/",
          "height": 34
        },
        "outputId": "602d7711-9592-43a2-91d2-2c715b0d1957"
      },
      "source": [
        "train_labels[400]"
      ],
      "execution_count": 28,
      "outputs": [
        {
          "output_type": "execute_result",
          "data": {
            "text/plain": [
              "2"
            ]
          },
          "metadata": {
            "tags": []
          },
          "execution_count": 28
        }
      ]
    },
    {
      "cell_type": "markdown",
      "metadata": {
        "id": "FoWUwVTBls2T",
        "colab_type": "text"
      },
      "source": [
        "One of the dimensions for the image is Channels (color) and let us add it to both training and testing dataset images with channel = 1 for it is grayscale.\n",
        "\n",
        "Normalize the input range for the pixels between 0 and 1 by dividing the pixel value by 255 since it ranges between 0 to 255."
      ]
    },
    {
      "cell_type": "code",
      "metadata": {
        "id": "RgClfpO8cvkg",
        "colab_type": "code",
        "colab": {}
      },
      "source": [
        "train_images = train_images.reshape((60000, 28, 28, 1))\n",
        "test_images = test_images.reshape((10000, 28, 28, 1))"
      ],
      "execution_count": 0,
      "outputs": []
    },
    {
      "cell_type": "code",
      "metadata": {
        "id": "cU3lgju9czbd",
        "colab_type": "code",
        "colab": {}
      },
      "source": [
        "train_images_norm = train_images / 255.0\n",
        "test_images_norm = test_images / 255.0"
      ],
      "execution_count": 0,
      "outputs": []
    },
    {
      "cell_type": "markdown",
      "metadata": {
        "id": "7hSPF_YmnAGn",
        "colab_type": "text"
      },
      "source": [
        "**Model Building: **\n",
        "\n",
        "\n",
        "Let us design the model with 3 convolutional layers as per the configurations specified in the code, i.e. 32,64 and 128 neurons for 1st, 2nd and 3rd layer respectively with kernel size as 3x3 and activation function as Relu. We will also use the 2d version of max pooling function as the input is 2D."
      ]
    },
    {
      "cell_type": "code",
      "metadata": {
        "id": "-Gg9DpC2c-_1",
        "colab_type": "code",
        "colab": {}
      },
      "source": [
        "conv1 = layers.Conv2D(32, (3,3), activation='relu', input_shape=(28,28,1) )\n",
        "conv2 = layers.Conv2D(64, (3,3), activation='relu')\n",
        "conv3 = layers.Conv2D(128, (3,3), activation='relu')\n",
        "max_pool_1 = layers.MaxPooling2D((2,2))\n",
        "max_pool_2 = layers.MaxPooling2D((2,2))\n",
        "max_pool_3 = layers.MaxPooling2D((2,2))"
      ],
      "execution_count": 0,
      "outputs": []
    },
    {
      "cell_type": "markdown",
      "metadata": {
        "id": "7Kf1bNsuoJOh",
        "colab_type": "text"
      },
      "source": [
        "The hidden layer expects the input in 1D and we need to convert the 2D from the previous layer to 1D before enters hidden layer in flattening layer and number of neurons must be equal to what is in the previous layer, in our case it is 128. Output layer is configured with 10 neurons for the 10 classes with softmax function."
      ]
    },
    {
      "cell_type": "code",
      "metadata": {
        "id": "c_c9d1mgdeGI",
        "colab_type": "code",
        "colab": {}
      },
      "source": [
        "flat_layer = layers.Flatten()"
      ],
      "execution_count": 0,
      "outputs": []
    },
    {
      "cell_type": "code",
      "metadata": {
        "id": "bcyrgipmdfV3",
        "colab_type": "code",
        "colab": {}
      },
      "source": [
        "fc = layers.Dense(128, activation='relu')"
      ],
      "execution_count": 0,
      "outputs": []
    },
    {
      "cell_type": "code",
      "metadata": {
        "id": "MRaaqXrpdmyd",
        "colab_type": "code",
        "colab": {}
      },
      "source": [
        "output = layers.Dense(10, 'softmax')"
      ],
      "execution_count": 0,
      "outputs": []
    },
    {
      "cell_type": "code",
      "metadata": {
        "id": "JYPWhipYdubO",
        "colab_type": "code",
        "colab": {
          "base_uri": "https://localhost:8080/",
          "height": 88
        },
        "outputId": "b95b0861-08c9-48d8-ebad-f4a010a6f5bb"
      },
      "source": [
        "model = models.Sequential()\n",
        "\n",
        "model.add(conv1)\n",
        "model.add(conv2)\n",
        "model.add(conv3)\n",
        "model.add(max_pool_1)\n",
        "model.add(flat_layer)\n",
        "model.add(fc)\n",
        "model.add(output)"
      ],
      "execution_count": 36,
      "outputs": [
        {
          "output_type": "stream",
          "text": [
            "WARNING:tensorflow:From /usr/local/lib/python3.6/dist-packages/tensorflow_core/python/ops/resource_variable_ops.py:1630: calling BaseResourceVariable.__init__ (from tensorflow.python.ops.resource_variable_ops) with constraint is deprecated and will be removed in a future version.\n",
            "Instructions for updating:\n",
            "If using Keras pass *_constraint arguments to layers.\n"
          ],
          "name": "stdout"
        }
      ]
    },
    {
      "cell_type": "code",
      "metadata": {
        "id": "6Pei8sPYd0wN",
        "colab_type": "code",
        "colab": {
          "base_uri": "https://localhost:8080/",
          "height": 391
        },
        "outputId": "4302c427-e0d0-464e-cf20-bd1f1c017ebb"
      },
      "source": [
        "model.summary()"
      ],
      "execution_count": 37,
      "outputs": [
        {
          "output_type": "stream",
          "text": [
            "Model: \"sequential\"\n",
            "_________________________________________________________________\n",
            "Layer (type)                 Output Shape              Param #   \n",
            "=================================================================\n",
            "conv2d (Conv2D)              (None, 26, 26, 32)        320       \n",
            "_________________________________________________________________\n",
            "conv2d_1 (Conv2D)            (None, 24, 24, 64)        18496     \n",
            "_________________________________________________________________\n",
            "conv2d_2 (Conv2D)            (None, 22, 22, 128)       73856     \n",
            "_________________________________________________________________\n",
            "max_pooling2d (MaxPooling2D) (None, 11, 11, 128)       0         \n",
            "_________________________________________________________________\n",
            "flatten (Flatten)            (None, 15488)             0         \n",
            "_________________________________________________________________\n",
            "dense (Dense)                (None, 128)               1982592   \n",
            "_________________________________________________________________\n",
            "dense_1 (Dense)              (None, 10)                1290      \n",
            "=================================================================\n",
            "Total params: 2,076,554\n",
            "Trainable params: 2,076,554\n",
            "Non-trainable params: 0\n",
            "_________________________________________________________________\n"
          ],
          "name": "stdout"
        }
      ]
    },
    {
      "cell_type": "code",
      "metadata": {
        "id": "XcV3GtxoeFox",
        "colab_type": "code",
        "colab": {}
      },
      "source": [
        "model.compile(optimizer='adam',\n",
        "              loss='sparse_categorical_crossentropy',\n",
        "              metrics=['accuracy'])"
      ],
      "execution_count": 0,
      "outputs": []
    },
    {
      "cell_type": "code",
      "metadata": {
        "id": "VvUb5FQxeJbg",
        "colab_type": "code",
        "colab": {
          "base_uri": "https://localhost:8080/",
          "height": 221
        },
        "outputId": "2ffbe707-5bed-4c5f-d1df-b72459795b69"
      },
      "source": [
        "model.fit(train_images_norm, train_labels, epochs=5, batch_size=512, shuffle=True, validation_split=0.1)"
      ],
      "execution_count": 41,
      "outputs": [
        {
          "output_type": "stream",
          "text": [
            "Train on 54000 samples, validate on 6000 samples\n",
            "Epoch 1/5\n",
            "54000/54000 [==============================] - 383s 7ms/sample - loss: 0.2686 - acc: 0.9053 - val_loss: 0.2665 - val_acc: 0.9063\n",
            "Epoch 2/5\n",
            "54000/54000 [==============================] - 383s 7ms/sample - loss: 0.2381 - acc: 0.9131 - val_loss: 0.2520 - val_acc: 0.9080\n",
            "Epoch 3/5\n",
            "54000/54000 [==============================] - 384s 7ms/sample - loss: 0.2055 - acc: 0.9256 - val_loss: 0.2500 - val_acc: 0.9097\n",
            "Epoch 4/5\n",
            "54000/54000 [==============================] - 382s 7ms/sample - loss: 0.1822 - acc: 0.9345 - val_loss: 0.2272 - val_acc: 0.9218\n",
            "Epoch 5/5\n",
            "54000/54000 [==============================] - 381s 7ms/sample - loss: 0.1622 - acc: 0.9404 - val_loss: 0.2234 - val_acc: 0.9205\n"
          ],
          "name": "stdout"
        },
        {
          "output_type": "execute_result",
          "data": {
            "text/plain": [
              "<tensorflow.python.keras.callbacks.History at 0x7f4865afe4e0>"
            ]
          },
          "metadata": {
            "tags": []
          },
          "execution_count": 41
        }
      ]
    },
    {
      "cell_type": "code",
      "metadata": {
        "id": "iPFGRKbHgvQy",
        "colab_type": "code",
        "colab": {
          "base_uri": "https://localhost:8080/",
          "height": 34
        },
        "outputId": "f3c1d19c-873f-47ca-c998-2bf9765aab51"
      },
      "source": [
        "test_loss, test_accuracy = model.evaluate(test_images_norm, test_labels)"
      ],
      "execution_count": 44,
      "outputs": [
        {
          "output_type": "stream",
          "text": [
            "10000/10000 [==============================] - 22s 2ms/sample - loss: 0.2381 - acc: 0.9191\n"
          ],
          "name": "stdout"
        }
      ]
    },
    {
      "cell_type": "code",
      "metadata": {
        "id": "VLMMJAYrgv7Q",
        "colab_type": "code",
        "colab": {
          "base_uri": "https://localhost:8080/",
          "height": 34
        },
        "outputId": "d2448df9-8019-402f-bcdd-082a484d0fba"
      },
      "source": [
        "print(test_accuracy, test_loss)"
      ],
      "execution_count": 45,
      "outputs": [
        {
          "output_type": "stream",
          "text": [
            "0.9191 0.23805500010251998\n"
          ],
          "name": "stdout"
        }
      ]
    },
    {
      "cell_type": "code",
      "metadata": {
        "id": "zIG3wiDag1u9",
        "colab_type": "code",
        "colab": {
          "base_uri": "https://localhost:8080/",
          "height": 34
        },
        "outputId": "1ddb700d-5fa7-46aa-9701-7828529b2d82"
      },
      "source": [
        "print(model.history.history.keys())"
      ],
      "execution_count": 49,
      "outputs": [
        {
          "output_type": "stream",
          "text": [
            "dict_keys(['loss', 'acc', 'val_loss', 'val_acc'])\n"
          ],
          "name": "stdout"
        }
      ]
    },
    {
      "cell_type": "markdown",
      "metadata": {
        "id": "qv33IFFUt2kG",
        "colab_type": "text"
      },
      "source": [
        "Predicting the test image"
      ]
    },
    {
      "cell_type": "code",
      "metadata": {
        "id": "CdjA2Hg6hES9",
        "colab_type": "code",
        "colab": {}
      },
      "source": [
        "predicted_test_labels = model.predict(test_images_norm)"
      ],
      "execution_count": 0,
      "outputs": []
    },
    {
      "cell_type": "code",
      "metadata": {
        "id": "LWZLPnNkt9F9",
        "colab_type": "code",
        "colab": {
          "base_uri": "https://localhost:8080/",
          "height": 34
        },
        "outputId": "b3a3605a-7456-4c63-ef36-84427efb0a21"
      },
      "source": [
        "predicted_test_labels.shape"
      ],
      "execution_count": 61,
      "outputs": [
        {
          "output_type": "execute_result",
          "data": {
            "text/plain": [
              "(10000, 10)"
            ]
          },
          "metadata": {
            "tags": []
          },
          "execution_count": 61
        }
      ]
    },
    {
      "cell_type": "code",
      "metadata": {
        "id": "Gel-XE1tuAjZ",
        "colab_type": "code",
        "colab": {
          "base_uri": "https://localhost:8080/",
          "height": 68
        },
        "outputId": "6ae9b195-8ed5-41af-c5cb-24bb31fb95e0"
      },
      "source": [
        "predicted_test_labels[100]"
      ],
      "execution_count": 63,
      "outputs": [
        {
          "output_type": "execute_result",
          "data": {
            "text/plain": [
              "array([1.2541879e-05, 3.2388885e-05, 8.9148938e-07, 9.9984443e-01,\n",
              "       1.6509347e-06, 2.4296008e-07, 1.0695547e-04, 3.1738927e-07,\n",
              "       2.2722584e-07, 2.2884228e-07], dtype=float32)"
            ]
          },
          "metadata": {
            "tags": []
          },
          "execution_count": 63
        }
      ]
    },
    {
      "cell_type": "code",
      "metadata": {
        "id": "TtS6vI2YhE2F",
        "colab_type": "code",
        "colab": {
          "base_uri": "https://localhost:8080/",
          "height": 34
        },
        "outputId": "e6ca01e4-0b1d-41aa-ffe5-69e5eaaec3fe"
      },
      "source": [
        "predicted_test_labels_index = np.argmax(predicted_test_labels[100])\n",
        "predicted_test_labels_index"
      ],
      "execution_count": 64,
      "outputs": [
        {
          "output_type": "execute_result",
          "data": {
            "text/plain": [
              "3"
            ]
          },
          "metadata": {
            "tags": []
          },
          "execution_count": 64
        }
      ]
    },
    {
      "cell_type": "code",
      "metadata": {
        "id": "Wjc9juXGhHKH",
        "colab_type": "code",
        "colab": {
          "base_uri": "https://localhost:8080/",
          "height": 34
        },
        "outputId": "0528f5c3-e6b6-4d76-c1d7-821877084fa5"
      },
      "source": [
        "test_labels[100]"
      ],
      "execution_count": 65,
      "outputs": [
        {
          "output_type": "execute_result",
          "data": {
            "text/plain": [
              "3"
            ]
          },
          "metadata": {
            "tags": []
          },
          "execution_count": 65
        }
      ]
    },
    {
      "cell_type": "code",
      "metadata": {
        "id": "6OfJoawYhJF5",
        "colab_type": "code",
        "colab": {
          "base_uri": "https://localhost:8080/",
          "height": 282
        },
        "outputId": "a1a70597-9e7d-49cd-ff66-6456838cbda3"
      },
      "source": [
        "plt.figure()\n",
        "plt.imshow(np.squeeze(test_images[100]))"
      ],
      "execution_count": 66,
      "outputs": [
        {
          "output_type": "execute_result",
          "data": {
            "text/plain": [
              "<matplotlib.image.AxesImage at 0x7f4861f2c978>"
            ]
          },
          "metadata": {
            "tags": []
          },
          "execution_count": 66
        },
        {
          "output_type": "display_data",
          "data": {
            "image/png": "[encoded data removed]",
            "text/plain": [
              "<Figure size 432x288 with 1 Axes>"
            ]
          },
          "metadata": {
            "tags": []
          }
        }
      ]
    },
    {
      "cell_type": "markdown",
      "metadata": {
        "id": "qmKzu2QfuPYg",
        "colab_type": "text"
      },
      "source": [
        "We can verify that the model has predicted the test image at index 100 correctly as dress and the label is predicted correspondingly as 3"
      ]
    }
  ]
}